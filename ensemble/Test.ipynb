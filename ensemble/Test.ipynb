{
 "cells": [
  {
   "cell_type": "code",
   "execution_count": 1,
   "metadata": {
    "collapsed": true
   },
   "outputs": [],
   "source": [
    "import pandas as pd\n",
    "import numpy as np\n",
    "import os\n",
    "from tqdm import tqdm_notebook\n",
    "import tables\n",
    "import math"
   ]
  },
  {
   "cell_type": "code",
   "execution_count": 2,
   "metadata": {
    "collapsed": true
   },
   "outputs": [],
   "source": [
    "result_predictions=\"ensemble.h5\""
   ]
  },
  {
   "cell_type": "code",
   "execution_count": 3,
   "metadata": {},
   "outputs": [
    {
     "name": "stdout",
     "output_type": "stream",
     "text": [
      "ensemble.h5 (File) ''\n",
      "Last modif.: 'Thu Dec 14 10:52:56 2017'\n",
      "Object Tree: \n",
      "/ (RootGroup) ''\n",
      "/keras_incepresv2_max (EArray(1768182, 5270)) ''\n",
      "/keras_incepresv2_mean (EArray(1768182, 5270)) ''\n",
      "/keras_incepresv2_median (EArray(1768182, 5270)) ''\n",
      "/keras_incepv2_max (EArray(1768182, 5270)) ''\n",
      "/keras_incepv2_mean (EArray(1768182, 5270)) ''\n",
      "/keras_incepv2_median (EArray(1768182, 5270)) ''\n",
      "/keras_resnet101_max (EArray(1768182, 5270)) ''\n",
      "/keras_resnet101_mean (EArray(1768182, 5270)) ''\n",
      "/keras_resnet101_median (EArray(1768182, 5270)) ''\n",
      "/keras_xcp_max (EArray(1768182, 5270)) ''\n",
      "/keras_xcp_mean (EArray(1768182, 5270)) ''\n",
      "/keras_xcp_median (EArray(1768182, 5270)) ''\n",
      "/pytorch_incepv3_max (EArray(1768182, 5270)) ''\n",
      "/pytorch_incepv3_mean (EArray(1768182, 5270)) ''\n",
      "/pytorch_incepv3_median (EArray(1768182, 5270)) ''\n",
      "/pytorch_resnet101_max (EArray(1768182, 5270)) ''\n",
      "/pytorch_resnet101_mean (EArray(1768182, 5270)) ''\n",
      "/pytorch_resnet101_median (EArray(1768182, 5270)) ''\n",
      "/pytorch_resnext_max (EArray(1768182, 5270)) ''\n",
      "/pytorch_resnext_mean (EArray(1768182, 5270)) ''\n",
      "/pytorch_resnext_median (EArray(1768182, 5270)) ''\n",
      "/pytorch_se_incepv3_max (EArray(1768182, 5270)) ''\n",
      "/pytorch_se_incepv3_mean (EArray(1768182, 5270)) ''\n",
      "/pytorch_se_incepv3_median (EArray(1768182, 5270)) ''\n",
      "/pytorch_xcp_max (EArray(1768182, 5270)) ''\n",
      "/pytorch_xcp_mean (EArray(1768182, 5270)) ''\n",
      "/pytorch_xcp_median (EArray(1768182, 5270)) ''\n",
      "\n"
     ]
    }
   ],
   "source": [
    "with tables.open_file(result_predictions, mode='r') as hdf5_file:\n",
    "    print(hdf5_file)"
   ]
  },
  {
   "cell_type": "code",
   "execution_count": 4,
   "metadata": {
    "collapsed": true
   },
   "outputs": [],
   "source": [
    "def return_idx(start, stop, step):\n",
    "    x=list(range(start, stop, step))\n",
    "    y=list(range(start+step, stop, step))+[stop]\n",
    "    for i in range(len(y)):\n",
    "        yield x[i], y[i]"
   ]
  },
  {
   "cell_type": "code",
   "execution_count": 5,
   "metadata": {},
   "outputs": [
    {
     "data": {
      "application/vnd.jupyter.widget-view+json": {
       "model_id": "4523b4d5bd564936b30557f79c8a6275",
       "version_major": 2,
       "version_minor": 0
      },
      "text/plain": [
       "A Jupyter Widget"
      ]
     },
     "metadata": {},
     "output_type": "display_data"
    }
   ],
   "source": [
    "final=[]\n",
    "\n",
    "with tables.open_file(result_predictions, mode='r') as hdf5_file:\n",
    "    start=0\n",
    "    end=len(hdf5_file.root.pytorch_xcp_median)\n",
    "    chunksize=800   \n",
    "    \n",
    "    indices=return_idx(start, end, chunksize)\n",
    "    total_batches = math.ceil(end/chunksize)\n",
    "    \n",
    "    bar = tqdm_notebook(total=total_batches)\n",
    "    \n",
    "    for start, end in indices:     \n",
    "        final[start:end] = np.argmax(hdf5_file.root.keras_incepv2_mean[start:end]+\n",
    "                                      hdf5_file.root.keras_resnet101_mean[start:end]+\n",
    "                                      hdf5_file.root.keras_incepresv2_mean[start:end]+\n",
    "                                      hdf5_file.root.keras_xcp_mean[start:end]+\n",
    "                                      hdf5_file.root.pytorch_se_incepv3_mean[start:end]+\n",
    "                                      hdf5_file.root.pytorch_incepv3_mean[start:end]+\n",
    "                                      hdf5_file.root.pytorch_xcp_mean[start:end]+\n",
    "                                      hdf5_file.root.pytorch_resnext_mean[start:end]+\n",
    "                                      hdf5_file.root.pytorch_resnet101_mean[start:end], \n",
    "                                      axis=1)       \n",
    "        bar.update()"
   ]
  },
  {
   "cell_type": "code",
   "execution_count": 6,
   "metadata": {
    "collapsed": true
   },
   "outputs": [],
   "source": [
    "result=pd.DataFrame()\n",
    "result[\"_id\"]=pd.read_csv(\"argmax.csv\")[\"_id\"].values\n",
    "result[\"final\"]=final"
   ]
  },
  {
   "cell_type": "code",
   "execution_count": 7,
   "metadata": {
    "collapsed": true
   },
   "outputs": [],
   "source": [
    "result.to_csv(\"argmax.csv\", index=False)"
   ]
  },
  {
   "cell_type": "code",
   "execution_count": 8,
   "metadata": {},
   "outputs": [
    {
     "data": {
      "text/plain": [
       "(1768182, 2)"
      ]
     },
     "execution_count": 8,
     "metadata": {},
     "output_type": "execute_result"
    }
   ],
   "source": [
    "result.shape"
   ]
  },
  {
   "cell_type": "code",
   "execution_count": 9,
   "metadata": {},
   "outputs": [
    {
     "data": {
      "text/html": [
       "<div>\n",
       "<style>\n",
       "    .dataframe thead tr:only-child th {\n",
       "        text-align: right;\n",
       "    }\n",
       "\n",
       "    .dataframe thead th {\n",
       "        text-align: left;\n",
       "    }\n",
       "\n",
       "    .dataframe tbody tr th {\n",
       "        vertical-align: top;\n",
       "    }\n",
       "</style>\n",
       "<table border=\"1\" class=\"dataframe\">\n",
       "  <thead>\n",
       "    <tr style=\"text-align: right;\">\n",
       "      <th></th>\n",
       "      <th>_id</th>\n",
       "      <th>final</th>\n",
       "    </tr>\n",
       "  </thead>\n",
       "  <tbody>\n",
       "    <tr>\n",
       "      <th>0</th>\n",
       "      <td>10</td>\n",
       "      <td>601</td>\n",
       "    </tr>\n",
       "    <tr>\n",
       "      <th>1</th>\n",
       "      <td>14</td>\n",
       "      <td>5055</td>\n",
       "    </tr>\n",
       "    <tr>\n",
       "      <th>2</th>\n",
       "      <td>21</td>\n",
       "      <td>5055</td>\n",
       "    </tr>\n",
       "    <tr>\n",
       "      <th>3</th>\n",
       "      <td>24</td>\n",
       "      <td>3844</td>\n",
       "    </tr>\n",
       "    <tr>\n",
       "      <th>4</th>\n",
       "      <td>27</td>\n",
       "      <td>1465</td>\n",
       "    </tr>\n",
       "  </tbody>\n",
       "</table>\n",
       "</div>"
      ],
      "text/plain": [
       "   _id  final\n",
       "0   10    601\n",
       "1   14   5055\n",
       "2   21   5055\n",
       "3   24   3844\n",
       "4   27   1465"
      ]
     },
     "execution_count": 9,
     "metadata": {},
     "output_type": "execute_result"
    }
   ],
   "source": [
    "result.head()"
   ]
  },
  {
   "cell_type": "code",
   "execution_count": null,
   "metadata": {
    "collapsed": true
   },
   "outputs": [],
   "source": []
  },
  {
   "cell_type": "code",
   "execution_count": null,
   "metadata": {
    "collapsed": true
   },
   "outputs": [],
   "source": []
  },
  {
   "cell_type": "code",
   "execution_count": null,
   "metadata": {
    "collapsed": true
   },
   "outputs": [],
   "source": []
  },
  {
   "cell_type": "code",
   "execution_count": null,
   "metadata": {
    "collapsed": true
   },
   "outputs": [],
   "source": []
  },
  {
   "cell_type": "code",
   "execution_count": null,
   "metadata": {
    "collapsed": true
   },
   "outputs": [],
   "source": []
  }
 ],
 "metadata": {
  "kernelspec": {
   "display_name": "Python 3",
   "language": "python",
   "name": "python3"
  },
  "language_info": {
   "codemirror_mode": {
    "name": "ipython",
    "version": 3
   },
   "file_extension": ".py",
   "mimetype": "text/x-python",
   "name": "python",
   "nbconvert_exporter": "python",
   "pygments_lexer": "ipython3",
   "version": "3.6.2"
  }
 },
 "nbformat": 4,
 "nbformat_minor": 2
}
